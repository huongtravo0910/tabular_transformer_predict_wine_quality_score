{
  "nbformat": 4,
  "nbformat_minor": 0,
  "metadata": {
    "colab": {
      "provenance": [],
      "authorship_tag": "ABX9TyPx4qDCKy42hKYqebAjOYp/",
      "include_colab_link": true
    },
    "kernelspec": {
      "name": "python3",
      "display_name": "Python 3"
    },
    "language_info": {
      "name": "python"
    }
  },
  "cells": [
    {
      "cell_type": "markdown",
      "metadata": {
        "id": "view-in-github",
        "colab_type": "text"
      },
      "source": [
        "<a href=\"https://colab.research.google.com/github/huongtravo0910/tabular_transformer_predict_wine_quality_score/blob/main/PredictWineQualityScore.ipynb\" target=\"_parent\"><img src=\"https://colab.research.google.com/assets/colab-badge.svg\" alt=\"Open In Colab\"/></a>"
      ]
    },
    {
      "cell_type": "code",
      "execution_count": 1,
      "metadata": {
        "id": "GY4kbomi1Ciz"
      },
      "outputs": [],
      "source": [
        "import torch\n",
        "import torch.nn as nn\n",
        "import torch.optim as optim\n",
        "from torch.utils.data import Dataset, DataLoader\n",
        "import pandas as pd\n",
        "from sklearn.model_selection import train_test_split\n",
        "from sklearn.preprocessing import StandardScaler\n",
        "import matplotlib.pyplot as plt\n",
        "from tqdm import tqdm"
      ]
    },
    {
      "cell_type": "code",
      "source": [
        "# --------------------------\n",
        "# Custom Dataset for Tabular Data (Used for Inference)\n",
        "# --------------------------\n",
        "class TabularDataset(Dataset):\n",
        "    def __init__(self, features, labels=None):\n",
        "        self.features = torch.FloatTensor(features)\n",
        "        self.labels = torch.LongTensor(labels) if labels is not None else None\n",
        "\n",
        "    def __len__(self):\n",
        "        return len(self.features)\n",
        "\n",
        "    def __getitem__(self, idx):\n",
        "        if self.labels is not None:\n",
        "            return self.features[idx], self.labels[idx]\n",
        "        return self.features[idx]\n"
      ],
      "metadata": {
        "id": "0AhIW-nU1Hlb"
      },
      "execution_count": 13,
      "outputs": []
    },
    {
      "cell_type": "code",
      "source": [
        "# --------------------------\n",
        "# TabTransformer Model\n",
        "# --------------------------\n",
        "class TabTransformer(nn.Module):\n",
        "    def __init__(self, num_features, num_classes, dim_embedding=64, num_heads=4, num_layers=4):\n",
        "        super(TabTransformer, self).__init__()\n",
        "        self.embedding = nn.Linear(num_features, dim_embedding)\n",
        "        encoder_layer = nn.TransformerEncoderLayer(d_model=dim_embedding, nhead=num_heads, batch_first=True)\n",
        "        self.transformer = nn.TransformerEncoder(encoder_layer, num_layers=num_layers)\n",
        "        self.classifier = nn.Linear(dim_embedding, num_classes)\n",
        "\n",
        "    def forward(self, x):\n",
        "        x = self.embedding(x)\n",
        "        x = x.unsqueeze(1)  # Adds sequence length dimension\n",
        "        x = self.transformer(x)\n",
        "        x = torch.mean(x, dim=1)  # Mean pooling\n",
        "        return self.classifier(x)\n"
      ],
      "metadata": {
        "id": "cocY3OLv1JJA"
      },
      "execution_count": 3,
      "outputs": []
    },
    {
      "cell_type": "code",
      "source": [
        "# --------------------------\n",
        "# Train Step Function\n",
        "# --------------------------\n",
        "def train_step(model, dataloader, loss_fn, optimizer, device):\n",
        "    model.train()\n",
        "    total_loss, correct, total_samples = 0.0, 0, 0\n",
        "\n",
        "    for batch_features, batch_labels in dataloader:\n",
        "        batch_features, batch_labels = batch_features.to(device), batch_labels.to(device)\n",
        "\n",
        "        optimizer.zero_grad()\n",
        "        output = model(batch_features)\n",
        "        loss = loss_fn(output, batch_labels)\n",
        "\n",
        "        loss.backward()\n",
        "        optimizer.step()\n",
        "\n",
        "        total_loss += loss.item() * batch_features.size(0)\n",
        "        _, predicted = torch.max(output, 1)\n",
        "        correct += (predicted == batch_labels).sum().item()\n",
        "        total_samples += batch_features.size(0)\n",
        "\n",
        "    avg_loss = total_loss / total_samples\n",
        "    accuracy = correct / total_samples\n",
        "    return avg_loss, accuracy\n"
      ],
      "metadata": {
        "id": "9EOnx8SG1Kyl"
      },
      "execution_count": 4,
      "outputs": []
    },
    {
      "cell_type": "code",
      "source": [
        "# --------------------------\n",
        "# Test Step Function\n",
        "# --------------------------\n",
        "def test_step(model, dataloader, loss_fn, device):\n",
        "    model.eval()\n",
        "    total_loss, correct, total_samples = 0.0, 0, 0\n",
        "\n",
        "    with torch.no_grad():\n",
        "        for batch_features, batch_labels in dataloader:\n",
        "            batch_features, batch_labels = batch_features.to(device), batch_labels.to(device)\n",
        "\n",
        "            output = model(batch_features)\n",
        "            loss = loss_fn(output, batch_labels)\n",
        "\n",
        "            total_loss += loss.item() * batch_features.size(0)\n",
        "            _, predicted = torch.max(output, 1)\n",
        "            correct += (predicted == batch_labels).sum().item()\n",
        "            total_samples += batch_features.size(0)\n",
        "\n",
        "    avg_loss = total_loss / total_samples\n",
        "    accuracy = correct / total_samples\n",
        "    return avg_loss, accuracy\n"
      ],
      "metadata": {
        "id": "8DQACHDb1M2y"
      },
      "execution_count": 5,
      "outputs": []
    },
    {
      "cell_type": "code",
      "source": [
        "# --------------------------\n",
        "# Training Loop with Visualization\n",
        "# --------------------------\n",
        "def train(model, train_dataloader, test_dataloader, optimizer, loss_fn, epochs, device):\n",
        "    results = {\"train_loss\": [], \"train_acc\": [], \"test_loss\": [], \"test_acc\": []}\n",
        "\n",
        "    model.to(device)\n",
        "\n",
        "    for epoch in tqdm(range(epochs)):\n",
        "        train_loss, train_acc = train_step(model, train_dataloader, loss_fn, optimizer, device)\n",
        "        test_loss, test_acc = test_step(model, test_dataloader, loss_fn, device)\n",
        "\n",
        "        print(f\"Epoch {epoch+1}/{epochs} | \"\n",
        "              f\"train_loss: {train_loss:.4f} | train_acc: {train_acc:.4f} | \"\n",
        "              f\"test_loss: {test_loss:.4f} | test_acc: {test_acc:.4f}\")\n",
        "\n",
        "        # Save results\n",
        "        results[\"train_loss\"].append(train_loss)\n",
        "        results[\"train_acc\"].append(train_acc)\n",
        "        results[\"test_loss\"].append(test_loss)\n",
        "        results[\"test_acc\"].append(test_acc)\n",
        "\n",
        "    return results"
      ],
      "metadata": {
        "id": "owoDgdPG1OzF"
      },
      "execution_count": 6,
      "outputs": []
    },
    {
      "cell_type": "code",
      "source": [
        "# --------------------------\n",
        "# Visualization Function\n",
        "# --------------------------\n",
        "def plot_results(results):\n",
        "    plt.figure(figsize=(12, 5))\n",
        "\n",
        "    # Loss Plot\n",
        "    plt.subplot(1, 2, 1)\n",
        "    plt.plot(results[\"train_loss\"], label='Train Loss')\n",
        "    plt.plot(results[\"test_loss\"], label='Test Loss')\n",
        "    plt.title('Loss Curve')\n",
        "    plt.xlabel('Epochs')\n",
        "    plt.ylabel('Loss')\n",
        "    plt.legend()\n",
        "\n",
        "    # Accuracy Plot\n",
        "    plt.subplot(1, 2, 2)\n",
        "    plt.plot(results[\"train_acc\"], label='Train Accuracy')\n",
        "    plt.plot(results[\"test_acc\"], label='Test Accuracy')\n",
        "    plt.title('Accuracy Curve')\n",
        "    plt.xlabel('Epochs')\n",
        "    plt.ylabel('Accuracy')\n",
        "    plt.legend()\n",
        "\n",
        "    plt.tight_layout()\n",
        "    plt.show()"
      ],
      "metadata": {
        "id": "-ZQlogci1Q0l"
      },
      "execution_count": 7,
      "outputs": []
    },
    {
      "cell_type": "code",
      "source": [
        "# --------------------------\n",
        "# Data Preparation\n",
        "# --------------------------\n",
        "url = \"http://archive.ics.uci.edu/ml/machine-learning-databases/wine-quality/winequality-red.csv\"\n",
        "data = pd.read_csv(url, sep=';')\n",
        "\n",
        "# Feature Engineering\n",
        "X = data.drop('quality', axis=1).values\n",
        "y = data['quality'].values - 3  # Zero-indexed labels\n",
        "\n",
        "# Train-test split\n",
        "X_train, X_val, y_train, y_val = train_test_split(X, y, test_size=0.2, random_state=42)\n",
        "\n",
        "# Standardization\n",
        "scaler = StandardScaler()\n",
        "X_train_scaled = scaler.fit_transform(X_train)\n",
        "X_val_scaled = scaler.transform(X_val)\n",
        "\n",
        "# Create DataLoaders\n",
        "batch_size = 32\n",
        "train_dataset = TabularDataset(X_train_scaled, y_train)\n",
        "val_dataset = TabularDataset(X_val_scaled, y_val)\n",
        "\n",
        "train_dataloader = DataLoader(train_dataset, batch_size=batch_size, shuffle=True)\n",
        "test_dataloader = DataLoader(val_dataset, batch_size=batch_size, shuffle=False)"
      ],
      "metadata": {
        "id": "pse_qe591TD-"
      },
      "execution_count": 8,
      "outputs": []
    },
    {
      "cell_type": "code",
      "source": [
        "# --------------------------\n",
        "# Model Initialization and Training\n",
        "# --------------------------\n",
        "device = torch.device('cuda' if torch.cuda.is_available() else 'cpu')\n",
        "model = TabTransformer(num_features=X_train_scaled.shape[1], num_classes=6).to(device)\n",
        "\n",
        "criterion = nn.CrossEntropyLoss()\n",
        "optimizer = torch.optim.Adam(model.parameters(), lr=0.001, weight_decay=1e-4)\n",
        "\n",
        "# Train and Evaluate\n",
        "epochs = 50\n",
        "results = train(model, train_dataloader, test_dataloader, optimizer, criterion, epochs, device)\n",
        "\n"
      ],
      "metadata": {
        "colab": {
          "base_uri": "https://localhost:8080/"
        },
        "id": "eRd_XCrK1VjN",
        "outputId": "72437795-93ea-43d3-8e1b-a6ad1f78c6f0"
      },
      "execution_count": 24,
      "outputs": [
        {
          "output_type": "stream",
          "name": "stderr",
          "text": [
            "  2%|▏         | 1/50 [00:03<02:43,  3.34s/it]"
          ]
        },
        {
          "output_type": "stream",
          "name": "stdout",
          "text": [
            "Epoch 1/50 | train_loss: 1.0878 | train_acc: 0.5426 | test_loss: 0.9811 | test_acc: 0.5656\n"
          ]
        },
        {
          "output_type": "stream",
          "name": "stderr",
          "text": [
            "\r  4%|▍         | 2/50 [00:05<02:07,  2.66s/it]"
          ]
        },
        {
          "output_type": "stream",
          "name": "stdout",
          "text": [
            "Epoch 2/50 | train_loss: 1.0153 | train_acc: 0.5723 | test_loss: 1.0046 | test_acc: 0.5719\n"
          ]
        },
        {
          "output_type": "stream",
          "name": "stderr",
          "text": [
            "\r  6%|▌         | 3/50 [00:08<02:13,  2.85s/it]"
          ]
        },
        {
          "output_type": "stream",
          "name": "stdout",
          "text": [
            "Epoch 3/50 | train_loss: 0.9852 | train_acc: 0.5950 | test_loss: 1.0220 | test_acc: 0.5687\n"
          ]
        },
        {
          "output_type": "stream",
          "name": "stderr",
          "text": [
            "\r  8%|▊         | 4/50 [00:10<01:53,  2.46s/it]"
          ]
        },
        {
          "output_type": "stream",
          "name": "stdout",
          "text": [
            "Epoch 4/50 | train_loss: 0.9941 | train_acc: 0.5841 | test_loss: 0.9566 | test_acc: 0.5750\n"
          ]
        },
        {
          "output_type": "stream",
          "name": "stderr",
          "text": [
            "\r 10%|█         | 5/50 [00:11<01:27,  1.94s/it]"
          ]
        },
        {
          "output_type": "stream",
          "name": "stdout",
          "text": [
            "Epoch 5/50 | train_loss: 0.9818 | train_acc: 0.5856 | test_loss: 0.9791 | test_acc: 0.5687\n"
          ]
        },
        {
          "output_type": "stream",
          "name": "stderr",
          "text": [
            "\r 12%|█▏        | 6/50 [00:12<01:12,  1.64s/it]"
          ]
        },
        {
          "output_type": "stream",
          "name": "stdout",
          "text": [
            "Epoch 6/50 | train_loss: 0.9875 | train_acc: 0.5833 | test_loss: 1.0223 | test_acc: 0.5000\n"
          ]
        },
        {
          "output_type": "stream",
          "name": "stderr",
          "text": [
            "\r 14%|█▍        | 7/50 [00:13<01:01,  1.44s/it]"
          ]
        },
        {
          "output_type": "stream",
          "name": "stdout",
          "text": [
            "Epoch 7/50 | train_loss: 0.9716 | train_acc: 0.5880 | test_loss: 0.9515 | test_acc: 0.5687\n"
          ]
        },
        {
          "output_type": "stream",
          "name": "stderr",
          "text": [
            "\r 16%|█▌        | 8/50 [00:14<00:55,  1.33s/it]"
          ]
        },
        {
          "output_type": "stream",
          "name": "stdout",
          "text": [
            "Epoch 8/50 | train_loss: 0.9601 | train_acc: 0.5997 | test_loss: 0.9809 | test_acc: 0.5437\n"
          ]
        },
        {
          "output_type": "stream",
          "name": "stderr",
          "text": [
            "\r 18%|█▊        | 9/50 [00:15<00:50,  1.24s/it]"
          ]
        },
        {
          "output_type": "stream",
          "name": "stdout",
          "text": [
            "Epoch 9/50 | train_loss: 0.9412 | train_acc: 0.6145 | test_loss: 0.9419 | test_acc: 0.5594\n"
          ]
        },
        {
          "output_type": "stream",
          "name": "stderr",
          "text": [
            "\r 20%|██        | 10/50 [00:16<00:47,  1.18s/it]"
          ]
        },
        {
          "output_type": "stream",
          "name": "stdout",
          "text": [
            "Epoch 10/50 | train_loss: 0.9581 | train_acc: 0.6075 | test_loss: 0.9427 | test_acc: 0.5719\n"
          ]
        },
        {
          "output_type": "stream",
          "name": "stderr",
          "text": [
            "\r 22%|██▏       | 11/50 [00:17<00:44,  1.14s/it]"
          ]
        },
        {
          "output_type": "stream",
          "name": "stdout",
          "text": [
            "Epoch 11/50 | train_loss: 0.9819 | train_acc: 0.6020 | test_loss: 0.9680 | test_acc: 0.5437\n"
          ]
        },
        {
          "output_type": "stream",
          "name": "stderr",
          "text": [
            "\r 24%|██▍       | 12/50 [00:19<00:44,  1.17s/it]"
          ]
        },
        {
          "output_type": "stream",
          "name": "stdout",
          "text": [
            "Epoch 12/50 | train_loss: 0.9491 | train_acc: 0.6020 | test_loss: 0.9595 | test_acc: 0.5719\n"
          ]
        },
        {
          "output_type": "stream",
          "name": "stderr",
          "text": [
            "\r 26%|██▌       | 13/50 [00:20<00:46,  1.26s/it]"
          ]
        },
        {
          "output_type": "stream",
          "name": "stdout",
          "text": [
            "Epoch 13/50 | train_loss: 0.9360 | train_acc: 0.6169 | test_loss: 0.9534 | test_acc: 0.5687\n"
          ]
        },
        {
          "output_type": "stream",
          "name": "stderr",
          "text": [
            "\r 28%|██▊       | 14/50 [00:21<00:45,  1.27s/it]"
          ]
        },
        {
          "output_type": "stream",
          "name": "stdout",
          "text": [
            "Epoch 14/50 | train_loss: 0.9260 | train_acc: 0.6271 | test_loss: 0.9412 | test_acc: 0.5625\n"
          ]
        },
        {
          "output_type": "stream",
          "name": "stderr",
          "text": [
            "\r 30%|███       | 15/50 [00:22<00:42,  1.21s/it]"
          ]
        },
        {
          "output_type": "stream",
          "name": "stdout",
          "text": [
            "Epoch 15/50 | train_loss: 0.9314 | train_acc: 0.6224 | test_loss: 0.9479 | test_acc: 0.5500\n"
          ]
        },
        {
          "output_type": "stream",
          "name": "stderr",
          "text": [
            "\r 32%|███▏      | 16/50 [00:23<00:39,  1.16s/it]"
          ]
        },
        {
          "output_type": "stream",
          "name": "stdout",
          "text": [
            "Epoch 16/50 | train_loss: 0.9272 | train_acc: 0.6286 | test_loss: 0.9463 | test_acc: 0.5875\n"
          ]
        },
        {
          "output_type": "stream",
          "name": "stderr",
          "text": [
            "\r 34%|███▍      | 17/50 [00:24<00:37,  1.13s/it]"
          ]
        },
        {
          "output_type": "stream",
          "name": "stdout",
          "text": [
            "Epoch 17/50 | train_loss: 0.9289 | train_acc: 0.6325 | test_loss: 0.8996 | test_acc: 0.5844\n"
          ]
        },
        {
          "output_type": "stream",
          "name": "stderr",
          "text": [
            "\r 36%|███▌      | 18/50 [00:26<00:35,  1.11s/it]"
          ]
        },
        {
          "output_type": "stream",
          "name": "stdout",
          "text": [
            "Epoch 18/50 | train_loss: 0.9252 | train_acc: 0.6255 | test_loss: 0.9364 | test_acc: 0.5844\n"
          ]
        },
        {
          "output_type": "stream",
          "name": "stderr",
          "text": [
            "\r 38%|███▊      | 19/50 [00:27<00:34,  1.10s/it]"
          ]
        },
        {
          "output_type": "stream",
          "name": "stdout",
          "text": [
            "Epoch 19/50 | train_loss: 0.9565 | train_acc: 0.6192 | test_loss: 0.9561 | test_acc: 0.5781\n"
          ]
        },
        {
          "output_type": "stream",
          "name": "stderr",
          "text": [
            "\r 40%|████      | 20/50 [00:28<00:32,  1.08s/it]"
          ]
        },
        {
          "output_type": "stream",
          "name": "stdout",
          "text": [
            "Epoch 20/50 | train_loss: 0.9487 | train_acc: 0.6020 | test_loss: 0.9519 | test_acc: 0.5875\n"
          ]
        },
        {
          "output_type": "stream",
          "name": "stderr",
          "text": [
            "\r 42%|████▏     | 21/50 [00:29<00:31,  1.07s/it]"
          ]
        },
        {
          "output_type": "stream",
          "name": "stdout",
          "text": [
            "Epoch 21/50 | train_loss: 0.9090 | train_acc: 0.6380 | test_loss: 0.9472 | test_acc: 0.6000\n"
          ]
        },
        {
          "output_type": "stream",
          "name": "stderr",
          "text": [
            "\r 44%|████▍     | 22/50 [00:30<00:29,  1.07s/it]"
          ]
        },
        {
          "output_type": "stream",
          "name": "stdout",
          "text": [
            "Epoch 22/50 | train_loss: 0.9022 | train_acc: 0.6419 | test_loss: 0.9568 | test_acc: 0.5750\n"
          ]
        },
        {
          "output_type": "stream",
          "name": "stderr",
          "text": [
            "\r 46%|████▌     | 23/50 [00:31<00:29,  1.08s/it]"
          ]
        },
        {
          "output_type": "stream",
          "name": "stdout",
          "text": [
            "Epoch 23/50 | train_loss: 0.9104 | train_acc: 0.6489 | test_loss: 0.9513 | test_acc: 0.5844\n"
          ]
        },
        {
          "output_type": "stream",
          "name": "stderr",
          "text": [
            "\r 48%|████▊     | 24/50 [00:32<00:31,  1.20s/it]"
          ]
        },
        {
          "output_type": "stream",
          "name": "stdout",
          "text": [
            "Epoch 24/50 | train_loss: 0.9042 | train_acc: 0.6474 | test_loss: 0.9363 | test_acc: 0.5844\n"
          ]
        },
        {
          "output_type": "stream",
          "name": "stderr",
          "text": [
            "\r 50%|█████     | 25/50 [00:34<00:31,  1.26s/it]"
          ]
        },
        {
          "output_type": "stream",
          "name": "stdout",
          "text": [
            "Epoch 25/50 | train_loss: 0.9232 | train_acc: 0.6294 | test_loss: 0.9270 | test_acc: 0.5813\n"
          ]
        },
        {
          "output_type": "stream",
          "name": "stderr",
          "text": [
            "\r 52%|█████▏    | 26/50 [00:35<00:28,  1.20s/it]"
          ]
        },
        {
          "output_type": "stream",
          "name": "stdout",
          "text": [
            "Epoch 26/50 | train_loss: 0.8992 | train_acc: 0.6388 | test_loss: 0.9149 | test_acc: 0.6062\n"
          ]
        },
        {
          "output_type": "stream",
          "name": "stderr",
          "text": [
            "\r 54%|█████▍    | 27/50 [00:36<00:26,  1.16s/it]"
          ]
        },
        {
          "output_type": "stream",
          "name": "stdout",
          "text": [
            "Epoch 27/50 | train_loss: 0.8788 | train_acc: 0.6497 | test_loss: 0.9334 | test_acc: 0.6156\n"
          ]
        },
        {
          "output_type": "stream",
          "name": "stderr",
          "text": [
            "\r 56%|█████▌    | 28/50 [00:37<00:24,  1.13s/it]"
          ]
        },
        {
          "output_type": "stream",
          "name": "stdout",
          "text": [
            "Epoch 28/50 | train_loss: 0.8907 | train_acc: 0.6693 | test_loss: 0.9550 | test_acc: 0.6062\n"
          ]
        },
        {
          "output_type": "stream",
          "name": "stderr",
          "text": [
            "\r 58%|█████▊    | 29/50 [00:38<00:23,  1.12s/it]"
          ]
        },
        {
          "output_type": "stream",
          "name": "stdout",
          "text": [
            "Epoch 29/50 | train_loss: 0.8978 | train_acc: 0.6568 | test_loss: 0.9605 | test_acc: 0.6000\n"
          ]
        },
        {
          "output_type": "stream",
          "name": "stderr",
          "text": [
            "\r 60%|██████    | 30/50 [00:39<00:22,  1.11s/it]"
          ]
        },
        {
          "output_type": "stream",
          "name": "stdout",
          "text": [
            "Epoch 30/50 | train_loss: 0.9518 | train_acc: 0.6380 | test_loss: 0.9547 | test_acc: 0.5781\n"
          ]
        },
        {
          "output_type": "stream",
          "name": "stderr",
          "text": [
            "\r 62%|██████▏   | 31/50 [00:40<00:20,  1.10s/it]"
          ]
        },
        {
          "output_type": "stream",
          "name": "stdout",
          "text": [
            "Epoch 31/50 | train_loss: 0.9266 | train_acc: 0.6286 | test_loss: 0.9335 | test_acc: 0.5813\n"
          ]
        },
        {
          "output_type": "stream",
          "name": "stderr",
          "text": [
            "\r 64%|██████▍   | 32/50 [00:41<00:19,  1.11s/it]"
          ]
        },
        {
          "output_type": "stream",
          "name": "stdout",
          "text": [
            "Epoch 32/50 | train_loss: 0.9138 | train_acc: 0.6435 | test_loss: 0.9650 | test_acc: 0.6219\n"
          ]
        },
        {
          "output_type": "stream",
          "name": "stderr",
          "text": [
            "\r 66%|██████▌   | 33/50 [00:42<00:18,  1.12s/it]"
          ]
        },
        {
          "output_type": "stream",
          "name": "stdout",
          "text": [
            "Epoch 33/50 | train_loss: 0.9131 | train_acc: 0.6513 | test_loss: 0.9301 | test_acc: 0.5906\n"
          ]
        },
        {
          "output_type": "stream",
          "name": "stderr",
          "text": [
            "\r 68%|██████▊   | 34/50 [00:44<00:18,  1.14s/it]"
          ]
        },
        {
          "output_type": "stream",
          "name": "stdout",
          "text": [
            "Epoch 34/50 | train_loss: 0.8960 | train_acc: 0.6513 | test_loss: 0.9475 | test_acc: 0.5906\n"
          ]
        },
        {
          "output_type": "stream",
          "name": "stderr",
          "text": [
            "\r 70%|███████   | 35/50 [00:45<00:18,  1.26s/it]"
          ]
        },
        {
          "output_type": "stream",
          "name": "stdout",
          "text": [
            "Epoch 35/50 | train_loss: 0.9212 | train_acc: 0.6364 | test_loss: 0.9268 | test_acc: 0.5906\n"
          ]
        },
        {
          "output_type": "stream",
          "name": "stderr",
          "text": [
            "\r 72%|███████▏  | 36/50 [00:47<00:18,  1.30s/it]"
          ]
        },
        {
          "output_type": "stream",
          "name": "stdout",
          "text": [
            "Epoch 36/50 | train_loss: 0.8812 | train_acc: 0.6630 | test_loss: 0.9200 | test_acc: 0.6094\n"
          ]
        },
        {
          "output_type": "stream",
          "name": "stderr",
          "text": [
            "\r 74%|███████▍  | 37/50 [00:48<00:16,  1.25s/it]"
          ]
        },
        {
          "output_type": "stream",
          "name": "stdout",
          "text": [
            "Epoch 37/50 | train_loss: 0.8813 | train_acc: 0.6654 | test_loss: 0.9436 | test_acc: 0.5875\n"
          ]
        },
        {
          "output_type": "stream",
          "name": "stderr",
          "text": [
            "\r 76%|███████▌  | 38/50 [00:49<00:14,  1.21s/it]"
          ]
        },
        {
          "output_type": "stream",
          "name": "stdout",
          "text": [
            "Epoch 38/50 | train_loss: 0.8709 | train_acc: 0.6646 | test_loss: 0.9349 | test_acc: 0.5625\n"
          ]
        },
        {
          "output_type": "stream",
          "name": "stderr",
          "text": [
            "\r 78%|███████▊  | 39/50 [00:50<00:13,  1.23s/it]"
          ]
        },
        {
          "output_type": "stream",
          "name": "stdout",
          "text": [
            "Epoch 39/50 | train_loss: 0.8763 | train_acc: 0.6724 | test_loss: 0.9522 | test_acc: 0.5875\n"
          ]
        },
        {
          "output_type": "stream",
          "name": "stderr",
          "text": [
            "\r 80%|████████  | 40/50 [00:51<00:12,  1.27s/it]"
          ]
        },
        {
          "output_type": "stream",
          "name": "stdout",
          "text": [
            "Epoch 40/50 | train_loss: 0.9247 | train_acc: 0.6333 | test_loss: 0.9733 | test_acc: 0.5375\n"
          ]
        },
        {
          "output_type": "stream",
          "name": "stderr",
          "text": [
            "\r 82%|████████▏ | 41/50 [00:53<00:12,  1.33s/it]"
          ]
        },
        {
          "output_type": "stream",
          "name": "stdout",
          "text": [
            "Epoch 41/50 | train_loss: 0.9861 | train_acc: 0.5762 | test_loss: 0.9451 | test_acc: 0.5719\n"
          ]
        },
        {
          "output_type": "stream",
          "name": "stderr",
          "text": [
            "\r 84%|████████▍ | 42/50 [00:54<00:11,  1.38s/it]"
          ]
        },
        {
          "output_type": "stream",
          "name": "stdout",
          "text": [
            "Epoch 42/50 | train_loss: 0.9253 | train_acc: 0.6216 | test_loss: 0.9257 | test_acc: 0.6062\n"
          ]
        },
        {
          "output_type": "stream",
          "name": "stderr",
          "text": [
            "\r 86%|████████▌ | 43/50 [00:56<00:09,  1.42s/it]"
          ]
        },
        {
          "output_type": "stream",
          "name": "stdout",
          "text": [
            "Epoch 43/50 | train_loss: 0.8800 | train_acc: 0.6646 | test_loss: 0.9453 | test_acc: 0.6125\n"
          ]
        },
        {
          "output_type": "stream",
          "name": "stderr",
          "text": [
            "\r 88%|████████▊ | 44/50 [00:58<00:09,  1.60s/it]"
          ]
        },
        {
          "output_type": "stream",
          "name": "stdout",
          "text": [
            "Epoch 44/50 | train_loss: 0.8934 | train_acc: 0.6607 | test_loss: 1.0234 | test_acc: 0.5531\n"
          ]
        },
        {
          "output_type": "stream",
          "name": "stderr",
          "text": [
            "\r 90%|█████████ | 45/50 [01:00<00:08,  1.64s/it]"
          ]
        },
        {
          "output_type": "stream",
          "name": "stdout",
          "text": [
            "Epoch 45/50 | train_loss: 0.8810 | train_acc: 0.6661 | test_loss: 0.9538 | test_acc: 0.5906\n"
          ]
        },
        {
          "output_type": "stream",
          "name": "stderr",
          "text": [
            "\r 92%|█████████▏| 46/50 [01:01<00:06,  1.61s/it]"
          ]
        },
        {
          "output_type": "stream",
          "name": "stdout",
          "text": [
            "Epoch 46/50 | train_loss: 0.9210 | train_acc: 0.6599 | test_loss: 1.0203 | test_acc: 0.5656\n"
          ]
        },
        {
          "output_type": "stream",
          "name": "stderr",
          "text": [
            "\r 94%|█████████▍| 47/50 [01:03<00:04,  1.58s/it]"
          ]
        },
        {
          "output_type": "stream",
          "name": "stdout",
          "text": [
            "Epoch 47/50 | train_loss: 0.9515 | train_acc: 0.6357 | test_loss: 0.9574 | test_acc: 0.5813\n"
          ]
        },
        {
          "output_type": "stream",
          "name": "stderr",
          "text": [
            "\r 96%|█████████▌| 48/50 [01:04<00:03,  1.55s/it]"
          ]
        },
        {
          "output_type": "stream",
          "name": "stdout",
          "text": [
            "Epoch 48/50 | train_loss: 0.8929 | train_acc: 0.6529 | test_loss: 0.9176 | test_acc: 0.5813\n"
          ]
        },
        {
          "output_type": "stream",
          "name": "stderr",
          "text": [
            "\r 98%|█████████▊| 49/50 [01:06<00:01,  1.55s/it]"
          ]
        },
        {
          "output_type": "stream",
          "name": "stdout",
          "text": [
            "Epoch 49/50 | train_loss: 0.8637 | train_acc: 0.6818 | test_loss: 0.9416 | test_acc: 0.5844\n"
          ]
        },
        {
          "output_type": "stream",
          "name": "stderr",
          "text": [
            "100%|██████████| 50/50 [01:07<00:00,  1.36s/it]"
          ]
        },
        {
          "output_type": "stream",
          "name": "stdout",
          "text": [
            "Epoch 50/50 | train_loss: 0.8694 | train_acc: 0.6716 | test_loss: 0.9007 | test_acc: 0.6219\n"
          ]
        },
        {
          "output_type": "stream",
          "name": "stderr",
          "text": [
            "\n"
          ]
        }
      ]
    },
    {
      "cell_type": "code",
      "source": [
        "# Plot results\n",
        "plot_results(results)"
      ],
      "metadata": {
        "colab": {
          "base_uri": "https://localhost:8080/",
          "height": 507
        },
        "id": "Ns4UXllW1ZW_",
        "outputId": "7a52f25a-adb1-4291-ed69-3ecfde76511d"
      },
      "execution_count": 10,
      "outputs": [
        {
          "output_type": "display_data",
          "data": {
            "text/plain": [
              "<Figure size 1200x500 with 2 Axes>"
            ],
            "image/png": "[encoded data removed]"
          },
          "metadata": {}
        }
      ]
    },
    {
      "cell_type": "code",
      "source": [
        "# --------------------------\n",
        "# Prediction Function\n",
        "# --------------------------\n",
        "def predict(model, dataloader, device):\n",
        "    model.eval()  # Evaluation mode\n",
        "    predictions, confidences = [], []\n",
        "\n",
        "    with torch.no_grad():\n",
        "        for batch_features in dataloader:\n",
        "            batch_features = batch_features.to(device)\n",
        "            outputs = model(batch_features)\n",
        "            probs = torch.softmax(outputs, dim=1)  # Confidence scores\n",
        "\n",
        "            _, predicted_classes = torch.max(probs, 1)\n",
        "            predictions.extend(predicted_classes.cpu().numpy())\n",
        "            confidences.extend(probs.max(1).values.cpu().numpy())\n",
        "\n",
        "    return predictions, confidences"
      ],
      "metadata": {
        "id": "nA9TB6Zt1Z8t"
      },
      "execution_count": 11,
      "outputs": []
    },
    {
      "cell_type": "code",
      "source": [
        "# --------------------------\n",
        "# Load and Preprocess Data for Prediction\n",
        "# --------------------------\n",
        "url = \"http://archive.ics.uci.edu/ml/machine-learning-databases/wine-quality/winequality-red.csv\"\n",
        "data = pd.read_csv(url, sep=';')\n",
        "\n",
        "# Example Data for Prediction (Pick 10 random samples)\n",
        "new_data = data.sample(10).drop('quality', axis=1).values\n",
        "print(new_data[0])\n",
        "\n",
        "\n",
        "# Standardization (IMPORTANT: Use the same scaler from training)\n",
        "scaler = StandardScaler()\n",
        "new_data_scaled = scaler.fit_transform(new_data)\n",
        "\n",
        "# DataLoader for Prediction\n",
        "prediction_dataset = TabularDataset(new_data_scaled)\n",
        "prediction_dataloader = DataLoader(prediction_dataset, batch_size=1, shuffle=False)\n",
        "\n",
        "# --------------------------\n",
        "# Load Trained Model\n",
        "# --------------------------\n",
        "device = torch.device('cuda' if torch.cuda.is_available() else 'cpu')\n",
        "model = TabTransformer(num_features=new_data_scaled.shape[1], num_classes=6).to(device)\n",
        "\n",
        "\n",
        "# --------------------------\n",
        "# Perform Prediction\n",
        "# --------------------------\n",
        "predictions, confidences = predict(model, prediction_dataloader, device)\n",
        "\n",
        "# --------------------------\n",
        "# Display Results\n",
        "# --------------------------\n",
        "print(\"🔍 Prediction Results:\")\n",
        "labels = data['quality'].values - 3  # Zero-indexed labels\n",
        "for idx, (pred, conf) in enumerate(zip(predictions, confidences)):\n",
        "    print(f\"Sample {idx + 1}: Predicted Quality Class ➔ {pred + 3} (Confidence: {conf:.2%})\")\n",
        "    print(f\"labels {idx + 1}: Predicted Quality Class ➔ {labels[idx]}\")\n"
      ],
      "metadata": {
        "colab": {
          "base_uri": "https://localhost:8080/"
        },
        "id": "9uM_fFSE1fjZ",
        "outputId": "2d058e00-e821-4631-c58c-ce0cc2cf84ef"
      },
      "execution_count": 23,
      "outputs": [
        {
          "output_type": "stream",
          "name": "stdout",
          "text": [
            "[ 5.4      0.58     0.08     1.9      0.059   20.      31.       0.99484\n",
            "  3.5      0.64    10.2    ]\n",
            "🔍 Prediction Results:\n",
            "Sample 1: Predicted Quality Class ➔ 4 (Confidence: 30.18%)\n",
            "labels 1: Predicted Quality Class ➔ 2\n",
            "Sample 2: Predicted Quality Class ➔ 4 (Confidence: 27.45%)\n",
            "labels 2: Predicted Quality Class ➔ 2\n",
            "Sample 3: Predicted Quality Class ➔ 5 (Confidence: 39.99%)\n",
            "labels 3: Predicted Quality Class ➔ 2\n",
            "Sample 4: Predicted Quality Class ➔ 8 (Confidence: 21.86%)\n",
            "labels 4: Predicted Quality Class ➔ 3\n",
            "Sample 5: Predicted Quality Class ➔ 8 (Confidence: 27.24%)\n",
            "labels 5: Predicted Quality Class ➔ 2\n",
            "Sample 6: Predicted Quality Class ➔ 6 (Confidence: 36.70%)\n",
            "labels 6: Predicted Quality Class ➔ 2\n",
            "Sample 7: Predicted Quality Class ➔ 5 (Confidence: 56.13%)\n",
            "labels 7: Predicted Quality Class ➔ 2\n",
            "Sample 8: Predicted Quality Class ➔ 7 (Confidence: 34.18%)\n",
            "labels 8: Predicted Quality Class ➔ 4\n",
            "Sample 9: Predicted Quality Class ➔ 8 (Confidence: 26.96%)\n",
            "labels 9: Predicted Quality Class ➔ 4\n",
            "Sample 10: Predicted Quality Class ➔ 5 (Confidence: 24.98%)\n",
            "labels 10: Predicted Quality Class ➔ 2\n"
          ]
        }
      ]
    }
  ]
}